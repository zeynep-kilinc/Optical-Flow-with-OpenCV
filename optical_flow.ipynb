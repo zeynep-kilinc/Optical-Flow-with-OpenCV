{
 "cells": [
  {
   "cell_type": "code",
   "execution_count": 2,
   "id": "07c91c6d-c45a-4f6c-a3c3-d6a7fec80c04",
   "metadata": {},
   "outputs": [],
   "source": [
    "import cv2\n",
    "import numpy as np"
   ]
  },
  {
   "cell_type": "code",
   "execution_count": 3,
   "id": "0959e214-510b-4565-a3fd-9fc59dba7b62",
   "metadata": {},
   "outputs": [],
   "source": [
    "corner_track_params=dict(maxCorners=10,\n",
    "                         qualityLevel=0.3,\n",
    "                         minDistance=7,\n",
    "                         blockSize=7)\n",
    "                         "
   ]
  },
  {
   "cell_type": "code",
   "execution_count": 4,
   "id": "61554cc1-9e25-4f82-a454-4c36e897651c",
   "metadata": {},
   "outputs": [],
   "source": [
    "lk_params=dict(winSize=(200,200),\n",
    "               maxLevel=2,\n",
    "               criteria=(cv2.TERM_CRITERIA_EPS |cv2.TERM_CRITERIA_COUNT,10,0.03))"
   ]
  },
  {
   "cell_type": "code",
   "execution_count": 8,
   "id": "9b0cbf2b-9f10-47b5-8bd6-0dc3f474304e",
   "metadata": {},
   "outputs": [],
   "source": [
    "cap=cv2.VideoCapture(0)\n",
    "ret,prev_frame=cap.read()\n",
    "prev_gray=cv2.cvtColor(prev_frame,cv2.COLOR_BGR2GRAY)\n",
    "prevPts=cv2.goodFeaturesToTrack(prev_gray,mask=None,**corner_track_params)\n",
    "mask=np.zeros_like(prev_frame)\n",
    "while True:\n",
    "    ret,frame=cap.read()\n",
    "    frame_gray=cv2.cvtColor(frame,cv2.COLOR_BGR2GRAY)\n",
    "    nextPts, status, err = cv2.calcOpticalFlowPyrLK(prev_gray,frame_gray,prevPts,None,**lk_params)\n",
    "    good_new=nextPts[status==1]\n",
    "    good_prev=prevPts[status==1]\n",
    "    for i, (new,prev) in enumerate(zip(good_new,good_prev)):\n",
    "        x_new,y_new=new.ravel().astype(int)\n",
    "        x_prev,y_prev=prev.ravel().astype(int)\n",
    "        mask=cv2.line(mask,(x_new,y_new),(x_prev,y_prev),(0,25,0),3)\n",
    "        frame=cv2.circle(frame,(x_new,y_new),8,(0,0,255),-1)\n",
    "    img=cv2.add(frame,mask)\n",
    "    cv2.imshow('frame',img)\n",
    "    k=cv2.waitKey(30)&0xFF\n",
    "    if k==27:\n",
    "        break\n",
    "    prev_gray=frame_gray.copy()\n",
    "    prevPts=good_new.reshape(-1,1,2)\n",
    "\n",
    "cv2.destroyAllWindows()\n",
    "cap.release()"
   ]
  },
  {
   "cell_type": "code",
   "execution_count": null,
   "id": "a8651c9e-b180-47aa-a1a2-a7a40b9ad910",
   "metadata": {},
   "outputs": [],
   "source": []
  }
 ],
 "metadata": {
  "kernelspec": {
   "display_name": "Python 3 (ipykernel)",
   "language": "python",
   "name": "python3"
  },
  "language_info": {
   "codemirror_mode": {
    "name": "ipython",
    "version": 3
   },
   "file_extension": ".py",
   "mimetype": "text/x-python",
   "name": "python",
   "nbconvert_exporter": "python",
   "pygments_lexer": "ipython3",
   "version": "3.11.7"
  }
 },
 "nbformat": 4,
 "nbformat_minor": 5
}
